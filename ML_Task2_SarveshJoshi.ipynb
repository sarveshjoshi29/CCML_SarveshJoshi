{
 "cells": [
  {
   "cell_type": "code",
   "execution_count": 1,
   "id": "5b574191-b005-4b00-abc2-78cc13ce69e8",
   "metadata": {},
   "outputs": [],
   "source": [
    "#calling all required imports\n",
    "\n",
    "import pandas as pd\n",
    "import numpy as np\n",
    "import seaborn as sns\n",
    "import matplotlib.pyplot as plt\n",
    "from langgraph.prebuilt import create_react_agent\n",
    "from typing import Annotated\n",
    "from typing import Literal\n",
    "from typing_extensions import TypedDict\n",
    "\n",
    "from langgraph.graph import StateGraph, START , END\n",
    "from langgraph.graph.message import add_messages\n",
    "import os\n",
    "from langchain.chat_models import init_chat_model\n",
    "from langgraph.prebuilt import ToolNode, tools_condition, create_react_agent\n",
    "from langchain.tools import tool\n",
    "from langchain_core.messages import HumanMessage\n",
    "from IPython.display import Image, display\n",
    "from sympy import sympify\n",
    "import requests\n",
    "from langchain_tavily import TavilySearch"
   ]
  },
  {
   "cell_type": "markdown",
   "id": "b3869d84-16dd-42ba-a06b-f92db54ef018",
   "metadata": {},
   "source": [
    "# <u> LEVEL 1 </u> :-"
   ]
  },
  {
   "cell_type": "code",
   "execution_count": 2,
   "id": "927db70b-6a83-484b-8e69-473f2d313971",
   "metadata": {},
   "outputs": [],
   "source": [
    "#defining our state\n",
    "class State (TypedDict):\n",
    "    messages : Annotated[list,add_messages]"
   ]
  },
  {
   "cell_type": "code",
   "execution_count": 3,
   "id": "5fcf75b9-c26a-4b7f-8262-e5a2e9c93f65",
   "metadata": {},
   "outputs": [],
   "source": [
    "#linking the gemini model using our api key\n",
    "gemini_api_key = \"\" #put your gemini api key here as a string\n",
    "\n",
    "os.environ[\"GOOGLE_API_KEY\"] = gemini_api_key\n",
    "llm = init_chat_model(\"google_genai:gemini-2.0-flash\")\n",
    "\n",
    "#Function to call our llm model\n",
    "def call_llm_model(state: State):\n",
    "    return {\"messages\": [llm.invoke(state[\"messages\"])]}\n"
   ]
  },
  {
   "cell_type": "markdown",
   "id": "534eec14-4a5e-40e1-bacb-3adcf2090b11",
   "metadata": {},
   "source": [
    "# <u> LEVEL 2 </u> :-"
   ]
  },
  {
   "cell_type": "code",
   "execution_count": 4,
   "id": "7b52f42d-aff9-447f-8718-86aa1288b205",
   "metadata": {},
   "outputs": [],
   "source": [
    "\n",
    "#Creating tools:\n",
    "\n",
    "# CALC TOOL USES SYMPY LIBRARY WHICH PROCESSES INPUTS AND APLLIES BODMAS RULE\n",
    "@tool\n",
    "def calc(expr : str): \n",
    "    '''Calculator using sympy'''\n",
    "    try:\n",
    "        result = sympify(expr).evalf()\n",
    "        return result\n",
    "    except Exception as e:\n",
    "        return e\n",
    "\n",
    "# WEATHERMAPTOOL USES OPENWEATHERMAP API TO CHECK WEATHER\n",
    "@tool\n",
    "def weatherMap(city :str)->dict :\n",
    "    ''' check weather using openweathermap API'''\n",
    "    base_url = \"https://api.openweathermap.org/data/2.5/weather?\"\n",
    "    \n",
    "    api_key = \"\" #put your gemini api key here\n",
    "    \n",
    "    actual_URL = base_url + \"appid=\" + api_key  + \"&q=\" + city + \"&units=metric\"\n",
    "    response = requests.get(actual_URL).json()\n",
    "    return response\n",
    "\n",
    "# Tavily is search engine tool which we use for handling fashion trend prompts or toher prompts requiring the agen to browse the web\n",
    "os.environ[\"TAVILY_API_KEY\"]= \"\" #SET YOUR TAVILY API KEY HERE \n",
    "tavilyTool = TavilySearch(max_results=2)\n",
    "    \n",
    "\n",
    "llm = llm.bind_tools([calc,weatherMap,tavilyTool])"
   ]
  },
  {
   "cell_type": "markdown",
   "id": "929f59c3-027e-4973-b750-5277dc64d264",
   "metadata": {},
   "source": [
    "### Here I used langgraph.prebuilt.ToolNode to build a tool node instead of manually writing the function\n",
    "#### The below code was necessary because the build_calc and build_weather are not callable. I found out this way after searching a lot to figure out this issue and how to resolve it"
   ]
  },
  {
   "cell_type": "code",
   "execution_count": 5,
   "id": "38dd570f-1adf-4377-9e47-0cc02862a7f1",
   "metadata": {},
   "outputs": [],
   "source": [
    "build_calc = ToolNode(tools= [calc])\n",
    "#print(callable(build_calc))\n",
    "def calc_node(state):\n",
    "    return build_calc.invoke(state)\n",
    "\n",
    "build_weather = ToolNode(tools=[weatherMap])\n",
    "#print(callable(build_weather))\n",
    "def weather_node(state):\n",
    "    return build_weather.invoke(state)\n",
    "\n",
    "build_tavily = ToolNode(tools=[tavilyTool])\n",
    "# def tavily_node(state):\n",
    "#     return build_tavily.invoke(state)\n",
    "    "
   ]
  },
  {
   "cell_type": "code",
   "execution_count": 6,
   "id": "cad5880d-c982-4afc-bffa-018769d2f2b5",
   "metadata": {},
   "outputs": [],
   "source": [
    "#Function to display the graph visually\n",
    "\n",
    "def printGraph(graph):\n",
    "    display(Image(graph.get_graph().draw_mermaid_png()))\n",
    "    \n",
    "        "
   ]
  },
  {
   "cell_type": "markdown",
   "id": "1c0344bf-fc12-4319-a8e2-8dfacd67f662",
   "metadata": {},
   "source": [
    "# <u> LEVEL 3 </u>:-\n",
    "\n",
    "### Defining a routing function to route the agent to the required tool :-"
   ]
  },
  {
   "cell_type": "code",
   "execution_count": 7,
   "id": "1d23892a-e7c2-49e2-bf2d-efdda758301a",
   "metadata": {},
   "outputs": [],
   "source": [
    "#Defining a function which checks whether or not to call the calc tool\n",
    "#The comments were to handle the issues while debugging\n",
    "def route(state : State)->State:\n",
    "    last_message = state[\"messages\"][-1]\n",
    "    \n",
    "    #print(last_message)\n",
    "    #print(len(last_message.tool_calls))\n",
    "    #print(message)\n",
    "    if hasattr(last_message, \"tool_calls\") and len(last_message.tool_calls) > 0:\n",
    "        #print(\"reached\")\n",
    "        tool = last_message.tool_calls[0][\"name\"]\n",
    "        #print(tool)\n",
    "        if tool == \"weatherMap\" :\n",
    "            return \"weather\"\n",
    "        elif tool == \"calc\" :\n",
    "            return \"calc\"\n",
    "        elif tool == \"tavily_search\":\n",
    "            #print(\"reached\")\n",
    "            return \"tavily\"\n",
    "        return END\n",
    "    return END \n",
    "    \n"
   ]
  },
  {
   "cell_type": "markdown",
   "id": "ece91ee0-0d9d-4e61-8a43-07d84944051b",
   "metadata": {},
   "source": [
    "## Defining our workflow/graph nodes and edges (and viewing it pictorially):-"
   ]
  },
  {
   "cell_type": "code",
   "execution_count": 8,
   "id": "5be1f259-7450-4617-840f-19d7138a91c4",
   "metadata": {},
   "outputs": [
    {
     "data": {
      "image/png": "[encoded data removed]",
      "text/plain": [
       "<IPython.core.display.Image object>"
      ]
     },
     "metadata": {},
     "output_type": "display_data"
    }
   ],
   "source": [
    "workflow = StateGraph(State)\n",
    "workflow.add_node(\"agent\" , call_llm_model)\n",
    "workflow.add_edge(START,\"agent\")\n",
    "\n",
    "workflow.add_node(\"weather\" , weather_node)\n",
    "workflow.add_node(\"calc\",calc_node)\n",
    "workflow.add_node(\"tavily\",build_tavily)\n",
    "workflow.add_conditional_edges(\"agent\", route , {\"weather\" : \"weather\", \"calc\" : \"calc\" , \"tavily\" : \"tavily\" , END : END})\n",
    "\n",
    "workflow.add_edge(\"weather\" , \"agent\")\n",
    "workflow.add_edge(\"calc\", \"agent\")\n",
    "workflow.add_edge(\"tavily\",\"agent\")\n",
    "graph = workflow.compile()\n",
    "printGraph(graph)\n",
    "                         "
   ]
  },
  {
   "cell_type": "markdown",
   "id": "83b7c66c-684b-4e01-9951-305d250f0a02",
   "metadata": {},
   "source": [
    "## Function to stream inputs from the user and generate an answer:-"
   ]
  },
  {
   "cell_type": "code",
   "execution_count": 11,
   "id": "c4c7621a-ea73-4099-8a32-dcebd2cb8a90",
   "metadata": {},
   "outputs": [
    {
     "name": "stdin",
     "output_type": "stream",
     "text": [
      "User:  Hello how are you\n"
     ]
    },
    {
     "name": "stdout",
     "output_type": "stream",
     "text": [
      "Assistant: I am doing well, thank you for asking. How can I help you today?\n"
     ]
    },
    {
     "name": "stdin",
     "output_type": "stream",
     "text": [
      "User:  whats your name\n"
     ]
    },
    {
     "name": "stdout",
     "output_type": "stream",
     "text": [
      "Assistant: I am Gemini, a large language model built by Google.\n"
     ]
    },
    {
     "name": "stdin",
     "output_type": "stream",
     "text": [
      "User:  can you tell the current weather in Guwahati\n"
     ]
    },
    {
     "name": "stdout",
     "output_type": "stream",
     "text": [
      "Assistant: The current weather in Guwahati is mist with a temperature of 27.95 degrees Celsius. The humidity is 94% and the wind speed is 0.\n"
     ]
    },
    {
     "name": "stdin",
     "output_type": "stream",
     "text": [
      "User:  What about the current temperature in Mumbai?\n"
     ]
    },
    {
     "name": "stdout",
     "output_type": "stream",
     "text": [
      "Assistant: The current temperature in Mumbai is 29.99 degrees Celsius. It feels like 36.99 degrees Celsius. The weather condition is haze.\n"
     ]
    },
    {
     "name": "stdin",
     "output_type": "stream",
     "text": [
      "User:  What are the current fashion trends in Tokyo?\n"
     ]
    },
    {
     "name": "stdout",
     "output_type": "stream",
     "text": [
      "Assistant: Current fashion trends in Tokyo include wide-leg pants, kitten heels, short sleeve blouses, loose dresses and basket bags. Other popular trends include oversized looks and the E-girl aesthetic.\n"
     ]
    },
    {
     "name": "stdin",
     "output_type": "stream",
     "text": [
      "User:  What are some trending fashion styles in South Korea?\n"
     ]
    },
    {
     "name": "stdout",
     "output_type": "stream",
     "text": [
      "Assistant: Based on the search results, some trending fashion styles in South Korea include:\n",
      "\n",
      "*   **Y2K tops:** Early 2000s-inspired garments with vibrant colors, unique patterns, and playful details.\n",
      "*   **Sustainable fashion:** An increasing emphasis on eco-friendly and ethical clothing choices.\n"
     ]
    },
    {
     "name": "stdin",
     "output_type": "stream",
     "text": [
      "User:  goodbye\n"
     ]
    },
    {
     "name": "stdout",
     "output_type": "stream",
     "text": [
      "Assistant : Have a great day!\n"
     ]
    }
   ],
   "source": [
    "def stream_graph_updates(user_input: str):\n",
    "    for event in graph.stream({\"messages\": [{\"role\": \"user\", \"content\": user_input}]}):\n",
    "        #print(event)\n",
    "        for key,value in event.items():\n",
    "            if key == \"agent\" and len(value[\"messages\"][-1].content) > 0:\n",
    "                print(\"Assistant:\", value[\"messages\"][-1].content)\n",
    "\n",
    "            #This if is necessary because then for one prompt I was getting multiple outputs. Reason was that in our dictionary event we\n",
    "            #had more than one keys corresponding to the agent, tool and agent again repsectively\n",
    "\n",
    "while True:\n",
    "    try:\n",
    "        user_input = input(\"User: \")\n",
    "        if user_input.lower() in [\"quit\", \"exit\",\"see you\",\"goodbye\" , \"bye bye\",\"bye\" , \"failed to get input, goodbye\"]:\n",
    "            print(\"Assistant : Have a great day!\")\n",
    "            break\n",
    "\n",
    "        stream_graph_updates(user_input)\n",
    "    except:\n",
    "        # fallback if input() is not available\n",
    "        user_input = \"bye\"\n",
    "        print(\"User: \" + user_input)\n",
    "        stream_graph_updates(user_input)\n",
    "        break"
   ]
  },
  {
   "cell_type": "markdown",
   "id": "f2fbe8a4-d51b-42d2-bb05-39dc57a5859e",
   "metadata": {},
   "source": [
    "### Due to lack of time I could not implement conversational memory. Multi-agent systems seem beyond my scope for now. Enjoyed this task as well. Thank you!"
   ]
  },
  {
   "cell_type": "code",
   "execution_count": null,
   "id": "6b3a9a84-28e5-4677-ba77-95b8df4c8a13",
   "metadata": {},
   "outputs": [],
   "source": []
  }
 ],
 "metadata": {
  "kernelspec": {
   "display_name": "Python 3 (ipykernel)",
   "language": "python",
   "name": "python3"
  },
  "language_info": {
   "codemirror_mode": {
    "name": "ipython",
    "version": 3
   },
   "file_extension": ".py",
   "mimetype": "text/x-python",
   "name": "python",
   "nbconvert_exporter": "python",
   "pygments_lexer": "ipython3",
   "version": "3.13.1"
  }
 },
 "nbformat": 4,
 "nbformat_minor": 5
}
